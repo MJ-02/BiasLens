{
 "cells": [
  {
   "cell_type": "code",
   "execution_count": 1,
   "metadata": {},
   "outputs": [],
   "source": [
    "import matplotlib.pyplot as plt\n",
    "import numpy as np\n",
    "import pandas as pd\n",
    "from sklearn.manifold import TSNE\n",
    "from sklearn.metrics import accuracy_score, confusion_matrix, f1_score\n",
    "from sklearn.model_selection import GridSearchCV\n",
    "from sklearn.svm import SVC\n",
    "\n",
    "from lazypredict.Supervised import LazyClassifier\n",
    "from pyrdf2vec import RDF2VecTransformer\n",
    "from pyrdf2vec.embedders import Word2Vec, FastText\n",
    "from pyrdf2vec.graphs import KG\n",
    "from pyrdf2vec.samplers import WideSampler, UniformSampler\n",
    "from pyrdf2vec.walkers import HALKWalker, NGramWalker, CommunityWalker, RandomWalker, WalkletWalker, Walker, WLWalker\n",
    "\n",
    "pd.options.display.float_format = '{:,.4f}'.format\n",
    "RANDOM_STATE = 22\n",
    "PATH = \"ENTERPATH HERE\""
   ]
  },
  {
   "cell_type": "code",
   "execution_count": 2,
   "metadata": {},
   "outputs": [],
   "source": [
    "df = pd.read_csv(PATH, sep= '\\t')\n",
    "df.head()\n",
    "df = df.rename(columns={\"Unnamed: 0\":\"uri\", \"0\":\"label\"})\n",
    "\n",
    "train_size= int(len(df)*0.2)\n",
    "test_data = df.iloc[:train_size]\n",
    "train_data = df.iloc[train_size:]\n",
    "\n",
    "train_entities = [entity for entity in train_data['uri']]\n",
    "train_labels = list(train_data[\"label\"])\n",
    "\n",
    "test_entities = [entity for entity in test_data['uri']]\n",
    "test_labels = list(test_data[\"label\"])\n",
    "\n",
    "\n",
    "entities = train_entities+test_entities\n",
    "labels = train_labels + test_labels"
   ]
  },
  {
   "cell_type": "code",
   "execution_count": 3,
   "metadata": {},
   "outputs": [],
   "source": [
    "kg = KG(\n",
    "    location = \"ENTER PATH HERE\",\n",
    "    skip_predicates={\"http://biaslens.com/bias\"},\n",
    "    skip_verify = True\n",
    "    )\n"
   ]
  },
  {
   "cell_type": "code",
   "execution_count": 4,
   "metadata": {},
   "outputs": [
    {
     "name": "stderr",
     "output_type": "stream",
     "text": [
      "100%|██████████| 37554/37554 [00:12<00:00, 2912.79it/s]\n"
     ]
    },
    {
     "name": "stdout",
     "output_type": "stream",
     "text": [
      "Extracted 354105 walks for 37554 entities (66.6287s)\n",
      "Fitted 354105 walks (35.7364s)\n"
     ]
    }
   ],
   "source": [
    "## Halk Walks\n",
    "rdf2vec = RDF2VecTransformer(Word2Vec(workers=2, epochs=20), \n",
    "        walkers=[\n",
    "        HALKWalker(\n",
    "            2,\n",
    "            None,\n",
    "            n_jobs=4,\n",
    "            sampler=UniformSampler(),\n",
    "            random_state=RANDOM_STATE,\n",
    "            md5_bytes=None,\n",
    "        )\n",
    "    ],\n",
    "verbose=1\n",
    ")\n",
    "embeddings, literals = rdf2vec.fit_transform(kg,  np.array(entities))"
   ]
  },
  {
   "cell_type": "code",
   "execution_count": 5,
   "metadata": {},
   "outputs": [],
   "source": [
    "from xgboost import XGBClassifier\n",
    "from sklearn.linear_model import LogisticRegression\n",
    "from sklearn.ensemble import RandomForestClassifier\n",
    "from sklearn.svm import SVC\n",
    "from sklearn.neighbors import KNeighborsClassifier\n",
    "\n",
    "from sklearn.metrics import accuracy_score, f1_score\n",
    "def get_scores(X_train, X_test, y_train, y_test):\n",
    "    arr = []\n",
    "    clfs = [\"XGBClassifier\", \"LogisticRegression\", \"RandomForestClassifier\", \"SVC\", \"KNeighborsClassifier\"]\n",
    "    for clf in clfs:\n",
    "        model = eval(clf+\"()\")\n",
    "        model.fit(X_train, y_train)\n",
    "        preds = model.predict(X_test)\n",
    "        arr.append((clf, accuracy_score(y_test, preds), f1_score(y_test, preds, average=\"macro\")))\n",
    "    return pd.DataFrame(arr, columns=[\"Model\", \"Accuracy\", \"F1 Macro\"])"
   ]
  },
  {
   "cell_type": "code",
   "execution_count": 6,
   "metadata": {},
   "outputs": [
    {
     "data": {
      "text/html": [
       "<div>\n",
       "<style scoped>\n",
       "    .dataframe tbody tr th:only-of-type {\n",
       "        vertical-align: middle;\n",
       "    }\n",
       "\n",
       "    .dataframe tbody tr th {\n",
       "        vertical-align: top;\n",
       "    }\n",
       "\n",
       "    .dataframe thead th {\n",
       "        text-align: right;\n",
       "    }\n",
       "</style>\n",
       "<table border=\"1\" class=\"dataframe\">\n",
       "  <thead>\n",
       "    <tr style=\"text-align: right;\">\n",
       "      <th></th>\n",
       "      <th>Model</th>\n",
       "      <th>Accuracy</th>\n",
       "      <th>F1 Macro</th>\n",
       "    </tr>\n",
       "  </thead>\n",
       "  <tbody>\n",
       "    <tr>\n",
       "      <th>0</th>\n",
       "      <td>XGBClassifier</td>\n",
       "      <td>0.9583</td>\n",
       "      <td>0.9576</td>\n",
       "    </tr>\n",
       "    <tr>\n",
       "      <th>1</th>\n",
       "      <td>LogisticRegression</td>\n",
       "      <td>0.9176</td>\n",
       "      <td>0.9167</td>\n",
       "    </tr>\n",
       "    <tr>\n",
       "      <th>2</th>\n",
       "      <td>RandomForestClassifier</td>\n",
       "      <td>0.9450</td>\n",
       "      <td>0.9442</td>\n",
       "    </tr>\n",
       "    <tr>\n",
       "      <th>3</th>\n",
       "      <td>SVC</td>\n",
       "      <td>0.9406</td>\n",
       "      <td>0.9398</td>\n",
       "    </tr>\n",
       "    <tr>\n",
       "      <th>4</th>\n",
       "      <td>KNeighborsClassifier</td>\n",
       "      <td>0.9587</td>\n",
       "      <td>0.9582</td>\n",
       "    </tr>\n",
       "  </tbody>\n",
       "</table>\n",
       "</div>"
      ],
      "text/plain": [
       "                    Model  Accuracy  F1 Macro\n",
       "0           XGBClassifier    0.9583    0.9576\n",
       "1      LogisticRegression    0.9176    0.9167\n",
       "2  RandomForestClassifier    0.9450    0.9442\n",
       "3                     SVC    0.9406    0.9398\n",
       "4    KNeighborsClassifier    0.9587    0.9582"
      ]
     },
     "execution_count": 6,
     "metadata": {},
     "output_type": "execute_result"
    }
   ],
   "source": [
    "train_embeddings = np.array(embeddings[:len(train_entities)])\n",
    "test_embeddings = np.array(embeddings[len(train_entities):])\n",
    "\n",
    "scores = get_scores(train_embeddings, test_embeddings, train_labels, test_labels)\n",
    "scores\n",
    "# clf = LazyClassifier(verbose=0,ignore_warnings=True, custom_metric=None)\n",
    "# models,predictions = clf.fit(train_embeddings, test_embeddings, train_labels, test_labels)\n",
    "# models"
   ]
  },
  {
   "cell_type": "code",
   "execution_count": null,
   "metadata": {},
   "outputs": [],
   "source": []
  },
  {
   "cell_type": "code",
   "execution_count": 7,
   "metadata": {},
   "outputs": [
    {
     "name": "stderr",
     "output_type": "stream",
     "text": [
      "100%|██████████| 37554/37554 [00:14<00:00, 2581.05it/s]\n"
     ]
    },
    {
     "name": "stdout",
     "output_type": "stream",
     "text": [
      "Extracted 354105 walks for 37554 entities (69.0343s)\n",
      "Fitted 354105 walks (36.6385s)\n"
     ]
    }
   ],
   "source": [
    "## Ngram Walks\n",
    "rdf2vec = RDF2VecTransformer(Word2Vec(workers=2, epochs=20), \n",
    "        walkers=[\n",
    "        NGramWalker(\n",
    "            2,\n",
    "            None,\n",
    "            n_jobs=4,\n",
    "            sampler=UniformSampler(),\n",
    "            random_state=RANDOM_STATE,\n",
    "            md5_bytes=None,\n",
    "        )\n",
    "    ],\n",
    "verbose=1\n",
    ")\n",
    "embeddings, literals = rdf2vec.fit_transform(kg,  np.array(entities))"
   ]
  },
  {
   "cell_type": "code",
   "execution_count": 8,
   "metadata": {},
   "outputs": [
    {
     "data": {
      "text/html": [
       "<div>\n",
       "<style scoped>\n",
       "    .dataframe tbody tr th:only-of-type {\n",
       "        vertical-align: middle;\n",
       "    }\n",
       "\n",
       "    .dataframe tbody tr th {\n",
       "        vertical-align: top;\n",
       "    }\n",
       "\n",
       "    .dataframe thead th {\n",
       "        text-align: right;\n",
       "    }\n",
       "</style>\n",
       "<table border=\"1\" class=\"dataframe\">\n",
       "  <thead>\n",
       "    <tr style=\"text-align: right;\">\n",
       "      <th></th>\n",
       "      <th>Model</th>\n",
       "      <th>Accuracy</th>\n",
       "      <th>F1 Macro</th>\n",
       "    </tr>\n",
       "  </thead>\n",
       "  <tbody>\n",
       "    <tr>\n",
       "      <th>0</th>\n",
       "      <td>XGBClassifier</td>\n",
       "      <td>0.9182</td>\n",
       "      <td>0.9168</td>\n",
       "    </tr>\n",
       "    <tr>\n",
       "      <th>1</th>\n",
       "      <td>LogisticRegression</td>\n",
       "      <td>0.8482</td>\n",
       "      <td>0.8461</td>\n",
       "    </tr>\n",
       "    <tr>\n",
       "      <th>2</th>\n",
       "      <td>RandomForestClassifier</td>\n",
       "      <td>0.8941</td>\n",
       "      <td>0.8924</td>\n",
       "    </tr>\n",
       "    <tr>\n",
       "      <th>3</th>\n",
       "      <td>SVC</td>\n",
       "      <td>0.8951</td>\n",
       "      <td>0.8932</td>\n",
       "    </tr>\n",
       "    <tr>\n",
       "      <th>4</th>\n",
       "      <td>KNeighborsClassifier</td>\n",
       "      <td>0.9027</td>\n",
       "      <td>0.9010</td>\n",
       "    </tr>\n",
       "  </tbody>\n",
       "</table>\n",
       "</div>"
      ],
      "text/plain": [
       "                    Model  Accuracy  F1 Macro\n",
       "0           XGBClassifier    0.9182    0.9168\n",
       "1      LogisticRegression    0.8482    0.8461\n",
       "2  RandomForestClassifier    0.8941    0.8924\n",
       "3                     SVC    0.8951    0.8932\n",
       "4    KNeighborsClassifier    0.9027    0.9010"
      ]
     },
     "execution_count": 8,
     "metadata": {},
     "output_type": "execute_result"
    }
   ],
   "source": [
    "train_embeddings = np.array(embeddings[:len(train_entities)])\n",
    "test_embeddings = np.array(embeddings[len(train_entities):])\n",
    "\n",
    "scores = get_scores(train_embeddings, test_embeddings, train_labels, test_labels)\n",
    "scores\n",
    "# clf = LazyClassifier(verbose=0,ignore_warnings=True, custom_metric=None)\n",
    "# models,predictions = clf.fit(train_embeddings, test_embeddings, train_labels, test_labels)\n",
    "# models"
   ]
  },
  {
   "cell_type": "code",
   "execution_count": 9,
   "metadata": {},
   "outputs": [],
   "source": [
    "# # Community walks\n",
    "# rdf2vec = RDF2VecTransformer(Word2Vec(workers=2, epochs=20), \n",
    "#         walkers=[\n",
    "#         CommunityWalker(\n",
    "#             2,\n",
    "#             None,\n",
    "#             n_jobs=4,\n",
    "#             sampler=UniformSampler(),\n",
    "#             random_state=RANDOM_STATE,\n",
    "#             md5_bytes=None,\n",
    "#         )\n",
    "#     ],\n",
    "# verbose=1\n",
    "# )\n",
    "# embeddings, literals = rdf2vec.fit_transform(kg,  np.array(entities))"
   ]
  },
  {
   "cell_type": "code",
   "execution_count": 10,
   "metadata": {},
   "outputs": [],
   "source": [
    "# train_embeddings = np.array(embeddings[:len(train_entities)])\n",
    "# test_embeddings = np.array(embeddings[len(train_entities):])\n",
    "\n",
    "# clf = LazyClassifier(verbose=0,ignore_warnings=True, custom_metric=None)\n",
    "# models,predictions = clf.fit(train_embeddings, test_embeddings, train_labels, test_labels)\n",
    "# models"
   ]
  },
  {
   "cell_type": "code",
   "execution_count": 11,
   "metadata": {},
   "outputs": [
    {
     "name": "stderr",
     "output_type": "stream",
     "text": [
      "100%|██████████| 37554/37554 [00:14<00:00, 2647.11it/s]\n"
     ]
    },
    {
     "name": "stdout",
     "output_type": "stream",
     "text": [
      "Extracted 354105 walks for 37554 entities (70.4497s)\n",
      "Fitted 354105 walks (37.1648s)\n"
     ]
    }
   ],
   "source": [
    "## Random Walks\n",
    "rdf2vec = RDF2VecTransformer(Word2Vec(workers=2, epochs=20), \n",
    "        walkers=[\n",
    "        RandomWalker(\n",
    "            2,\n",
    "            None,\n",
    "            n_jobs=4,\n",
    "            sampler=UniformSampler(),\n",
    "            random_state=RANDOM_STATE,\n",
    "            md5_bytes=None,\n",
    "        )\n",
    "    ],\n",
    "verbose=1\n",
    ")\n",
    "embeddings, literals = rdf2vec.fit_transform(kg,  np.array(entities))"
   ]
  },
  {
   "cell_type": "code",
   "execution_count": 12,
   "metadata": {},
   "outputs": [
    {
     "data": {
      "text/html": [
       "<div>\n",
       "<style scoped>\n",
       "    .dataframe tbody tr th:only-of-type {\n",
       "        vertical-align: middle;\n",
       "    }\n",
       "\n",
       "    .dataframe tbody tr th {\n",
       "        vertical-align: top;\n",
       "    }\n",
       "\n",
       "    .dataframe thead th {\n",
       "        text-align: right;\n",
       "    }\n",
       "</style>\n",
       "<table border=\"1\" class=\"dataframe\">\n",
       "  <thead>\n",
       "    <tr style=\"text-align: right;\">\n",
       "      <th></th>\n",
       "      <th>Model</th>\n",
       "      <th>Accuracy</th>\n",
       "      <th>F1 Macro</th>\n",
       "    </tr>\n",
       "  </thead>\n",
       "  <tbody>\n",
       "    <tr>\n",
       "      <th>0</th>\n",
       "      <td>XGBClassifier</td>\n",
       "      <td>0.9583</td>\n",
       "      <td>0.9575</td>\n",
       "    </tr>\n",
       "    <tr>\n",
       "      <th>1</th>\n",
       "      <td>LogisticRegression</td>\n",
       "      <td>0.9296</td>\n",
       "      <td>0.9281</td>\n",
       "    </tr>\n",
       "    <tr>\n",
       "      <th>2</th>\n",
       "      <td>RandomForestClassifier</td>\n",
       "      <td>0.9478</td>\n",
       "      <td>0.9470</td>\n",
       "    </tr>\n",
       "    <tr>\n",
       "      <th>3</th>\n",
       "      <td>SVC</td>\n",
       "      <td>0.9494</td>\n",
       "      <td>0.9486</td>\n",
       "    </tr>\n",
       "    <tr>\n",
       "      <th>4</th>\n",
       "      <td>KNeighborsClassifier</td>\n",
       "      <td>0.9607</td>\n",
       "      <td>0.9599</td>\n",
       "    </tr>\n",
       "  </tbody>\n",
       "</table>\n",
       "</div>"
      ],
      "text/plain": [
       "                    Model  Accuracy  F1 Macro\n",
       "0           XGBClassifier    0.9583    0.9575\n",
       "1      LogisticRegression    0.9296    0.9281\n",
       "2  RandomForestClassifier    0.9478    0.9470\n",
       "3                     SVC    0.9494    0.9486\n",
       "4    KNeighborsClassifier    0.9607    0.9599"
      ]
     },
     "execution_count": 12,
     "metadata": {},
     "output_type": "execute_result"
    }
   ],
   "source": [
    "train_embeddings = np.array(embeddings[:len(train_entities)])\n",
    "test_embeddings = np.array(embeddings[len(train_entities):])\n",
    "\n",
    "scores = get_scores(train_embeddings, test_embeddings, train_labels, test_labels)\n",
    "scores\n",
    "# clf = LazyClassifier(verbose=0,ignore_warnings=True, custom_metric=None)\n",
    "# models,predictions = clf.fit(train_embeddings, test_embeddings, train_labels, test_labels)\n",
    "# models"
   ]
  },
  {
   "cell_type": "code",
   "execution_count": 13,
   "metadata": {},
   "outputs": [],
   "source": [
    "# #WL walks\n",
    "# rdf2vec = RDF2VecTransformer(Word2Vec(workers=2, epochs=20), \n",
    "#         walkers=[\n",
    "#         WLWalker(\n",
    "#             2,\n",
    "#             None,\n",
    "#             n_jobs=4,\n",
    "#             sampler=UniformSampler(),\n",
    "#             random_state=RANDOM_STATE,\n",
    "#             md5_bytes=None,\n",
    "#         )\n",
    "#     ],\n",
    "# verbose=1\n",
    "# )\n",
    "# embeddings, literals = rdf2vec.fit_transform(kg,  np.array(entities))"
   ]
  },
  {
   "cell_type": "code",
   "execution_count": 14,
   "metadata": {},
   "outputs": [],
   "source": [
    "# train_embeddings = np.array(embeddings[:len(train_entities)])\n",
    "# test_embeddings = np.array(embeddings[len(train_entities):])\n",
    "\n",
    "# clf = LazyClassifier(verbose=0,ignore_warnings=True, custom_metric=None)\n",
    "# models,predictions = clf.fit(train_embeddings, test_embeddings, train_labels, test_labels)\n",
    "# models"
   ]
  },
  {
   "cell_type": "code",
   "execution_count": 15,
   "metadata": {},
   "outputs": [
    {
     "name": "stderr",
     "output_type": "stream",
     "text": [
      "100%|██████████| 37554/37554 [00:11<00:00, 3151.51it/s]\n"
     ]
    },
    {
     "name": "stdout",
     "output_type": "stream",
     "text": [
      "Extracted 646530 walks for 37554 entities (62.8111s)\n",
      "Fitted 646530 walks (41.2427s)\n"
     ]
    }
   ],
   "source": [
    "#Walklet walks\n",
    "rdf2vec = RDF2VecTransformer(Word2Vec(workers=2, epochs=20), \n",
    "        walkers=[\n",
    "        WalkletWalker(\n",
    "            2,\n",
    "            None,\n",
    "            n_jobs=4,\n",
    "            sampler=UniformSampler(),\n",
    "            random_state=RANDOM_STATE,\n",
    "            md5_bytes=None,\n",
    "        )\n",
    "    ],\n",
    "verbose=1\n",
    ")\n",
    "embeddings, literals = rdf2vec.fit_transform(kg,  np.array(entities))"
   ]
  },
  {
   "cell_type": "code",
   "execution_count": 16,
   "metadata": {},
   "outputs": [
    {
     "data": {
      "text/html": [
       "<div>\n",
       "<style scoped>\n",
       "    .dataframe tbody tr th:only-of-type {\n",
       "        vertical-align: middle;\n",
       "    }\n",
       "\n",
       "    .dataframe tbody tr th {\n",
       "        vertical-align: top;\n",
       "    }\n",
       "\n",
       "    .dataframe thead th {\n",
       "        text-align: right;\n",
       "    }\n",
       "</style>\n",
       "<table border=\"1\" class=\"dataframe\">\n",
       "  <thead>\n",
       "    <tr style=\"text-align: right;\">\n",
       "      <th></th>\n",
       "      <th>Model</th>\n",
       "      <th>Accuracy</th>\n",
       "      <th>F1 Macro</th>\n",
       "    </tr>\n",
       "  </thead>\n",
       "  <tbody>\n",
       "    <tr>\n",
       "      <th>0</th>\n",
       "      <td>XGBClassifier</td>\n",
       "      <td>0.9289</td>\n",
       "      <td>0.9281</td>\n",
       "    </tr>\n",
       "    <tr>\n",
       "      <th>1</th>\n",
       "      <td>LogisticRegression</td>\n",
       "      <td>0.8884</td>\n",
       "      <td>0.8864</td>\n",
       "    </tr>\n",
       "    <tr>\n",
       "      <th>2</th>\n",
       "      <td>RandomForestClassifier</td>\n",
       "      <td>0.9225</td>\n",
       "      <td>0.9213</td>\n",
       "    </tr>\n",
       "    <tr>\n",
       "      <th>3</th>\n",
       "      <td>SVC</td>\n",
       "      <td>0.9057</td>\n",
       "      <td>0.9044</td>\n",
       "    </tr>\n",
       "    <tr>\n",
       "      <th>4</th>\n",
       "      <td>KNeighborsClassifier</td>\n",
       "      <td>0.9189</td>\n",
       "      <td>0.9178</td>\n",
       "    </tr>\n",
       "  </tbody>\n",
       "</table>\n",
       "</div>"
      ],
      "text/plain": [
       "                    Model  Accuracy  F1 Macro\n",
       "0           XGBClassifier    0.9289    0.9281\n",
       "1      LogisticRegression    0.8884    0.8864\n",
       "2  RandomForestClassifier    0.9225    0.9213\n",
       "3                     SVC    0.9057    0.9044\n",
       "4    KNeighborsClassifier    0.9189    0.9178"
      ]
     },
     "execution_count": 16,
     "metadata": {},
     "output_type": "execute_result"
    }
   ],
   "source": [
    "train_embeddings = np.array(embeddings[:len(train_entities)])\n",
    "test_embeddings = np.array(embeddings[len(train_entities):])\n",
    "\n",
    "scores = get_scores(train_embeddings, test_embeddings, train_labels, test_labels)\n",
    "scores\n",
    "# clf = LazyClassifier(verbose=0,ignore_warnings=True, custom_metric=None)\n",
    "# models,predictions = clf.fit(train_embeddings, test_embeddings, train_labels, test_labels)\n",
    "# models"
   ]
  }
 ],
 "metadata": {
  "kernelspec": {
   "display_name": "Python 3",
   "language": "python",
   "name": "python3"
  },
  "language_info": {
   "codemirror_mode": {
    "name": "ipython",
    "version": 3
   },
   "file_extension": ".py",
   "mimetype": "text/x-python",
   "name": "python",
   "nbconvert_exporter": "python",
   "pygments_lexer": "ipython3",
   "version": "3.7.8"
  }
 },
 "nbformat": 4,
 "nbformat_minor": 2
}
